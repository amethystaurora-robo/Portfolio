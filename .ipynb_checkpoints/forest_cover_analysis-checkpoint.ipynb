{
 "cells": [
  {
   "cell_type": "code",
   "execution_count": 1,
   "id": "ca72cbc1-b090-4864-a885-c609b6a6077b",
   "metadata": {},
   "outputs": [],
   "source": [
    "import numpy as np\n",
    "import pandas as pd"
   ]
  },
  {
   "cell_type": "code",
   "execution_count": 2,
   "id": "dcf9e717-a810-461b-bebd-e23079f21a27",
   "metadata": {},
   "outputs": [],
   "source": [
    "forest = pd.read_csv('forest_cover.csv')"
   ]
  },
  {
   "cell_type": "code",
   "execution_count": null,
   "id": "4df940e7-3a4c-4343-ab11-127edea9634e",
   "metadata": {},
   "outputs": [],
   "source": []
  }
 ],
 "metadata": {
  "kernelspec": {
   "display_name": "Python 3 (ipykernel)",
   "language": "python",
   "name": "python3"
  },
  "language_info": {
   "codemirror_mode": {
    "name": "ipython",
    "version": 3
   },
   "file_extension": ".py",
   "mimetype": "text/x-python",
   "name": "python",
   "nbconvert_exporter": "python",
   "pygments_lexer": "ipython3",
   "version": "3.9.13"
  }
 },
 "nbformat": 4,
 "nbformat_minor": 5
}
